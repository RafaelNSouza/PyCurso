{
  "nbformat": 4,
  "nbformat_minor": 0,
  "metadata": {
    "colab": {
      "name": "PyCurso.ipynb",
      "provenance": []
    },
    "kernelspec": {
      "name": "python3",
      "display_name": "Python 3"
    }
  },
  "cells": [
    {
      "cell_type": "markdown",
      "metadata": {
        "id": "9m5OurNg7Z7i"
      },
      "source": [
        "**Cota Dolar**"
      ]
    },
    {
      "cell_type": "code",
      "metadata": {
        "id": "4dVmYVQ9dUKe",
        "outputId": "7931d8ca-1fa9-4363-9916-fded7ac1d665",
        "colab": {
          "base_uri": "https://localhost:8080/",
          "height": 85
        }
      },
      "source": [
        "cota= 5.62\n",
        "valor_em_real= float (input (\"digite o valor em reais: \"))\n",
        "valor_em_dolar= float (input (\"digite o valor em dolar: \"))\n",
        "converte_real= (valor_em_dolar * cota)\n",
        "converte_dolar= (valor_em_real / cota)\n",
        "saida= f'valor em dolar: ${converte_dolar:.2f}\\nvalor em real: R${converte_real:.2f}'\n",
        "print(saida)"
      ],
      "execution_count": null,
      "outputs": [
        {
          "output_type": "stream",
          "text": [
            "digite o valor em reais: 5\n",
            "digite o valor em dolar: 1\n",
            "valor em dolar: $0.89\n",
            "valor em real: R$5.62\n"
          ],
          "name": "stdout"
        }
      ]
    },
    {
      "cell_type": "markdown",
      "metadata": {
        "id": "cuycpll3skoR"
      },
      "source": [
        "**Desvios Condicionais:** Aliquota"
      ]
    },
    {
      "cell_type": "code",
      "metadata": {
        "id": "7wDZ9YzZshEc",
        "outputId": "bf08c6ef-ca1b-4203-b9e5-ac9449802881",
        "colab": {
          "base_uri": "https://localhost:8080/",
          "height": 51
        }
      },
      "source": [
        "salario = float (input(\"Digite seu salário mensal: \"))\n",
        "if salario < 1903.99:\n",
        "  valor = 0\n",
        "elif salario <= 2826.65:\n",
        "  valor = salario  *0.075\n",
        "elif salario <= 3751.05:\n",
        "  valor = salario * 0.15\n",
        "elif salario <= 4664.68:\n",
        "  valor = salario * 0.225\n",
        "else:\n",
        "  valor = salario * 0.275\n",
        "print(f\"O valor a ser pago  de IR é RS{valor:.2f} \")"
      ],
      "execution_count": null,
      "outputs": [
        {
          "output_type": "stream",
          "text": [
            "Digite seu salário mensal: 3000\n",
            "O valor a ser pago  de IR é RS450.00 \n"
          ],
          "name": "stdout"
        }
      ]
    },
    {
      "cell_type": "markdown",
      "metadata": {
        "id": "A0sUxwgZ71pv"
      },
      "source": [
        "**WHILE:**"
      ]
    },
    {
      "cell_type": "code",
      "metadata": {
        "id": "QJTAjQax77dY",
        "outputId": "6ed6f7ec-8c6f-4505-8e9f-63bc2e7573b3",
        "colab": {
          "base_uri": "https://localhost:8080/",
          "height": 221
        }
      },
      "source": [
        "Num = 0\n",
        "while Num <= 10:\n",
        "  print (\"Valor do Número é: \",Num)\n",
        "  Num += 1\n",
        "print(\"Acabou!\")"
      ],
      "execution_count": null,
      "outputs": [
        {
          "output_type": "stream",
          "text": [
            "Valor do Número é:  0\n",
            "Valor do Número é:  1\n",
            "Valor do Número é:  2\n",
            "Valor do Número é:  3\n",
            "Valor do Número é:  4\n",
            "Valor do Número é:  5\n",
            "Valor do Número é:  6\n",
            "Valor do Número é:  7\n",
            "Valor do Número é:  8\n",
            "Valor do Número é:  9\n",
            "Valor do Número é:  10\n",
            "Acabou!\n"
          ],
          "name": "stdout"
        }
      ]
    },
    {
      "cell_type": "markdown",
      "metadata": {
        "id": "2qTLMTDM7_l1"
      },
      "source": [
        "**FOR:**\n",
        "\n"
      ]
    },
    {
      "cell_type": "code",
      "metadata": {
        "id": "90qSx_E-8BhA",
        "outputId": "329c000e-474e-4edd-b245-5246205966cf",
        "colab": {
          "base_uri": "https://localhost:8080/",
          "height": 1000
        }
      },
      "source": [
        "for i in range (101):\n",
        "  print(\"Valor do Número é: \",i)\n",
        "print(\"Acabou!\")"
      ],
      "execution_count": null,
      "outputs": [
        {
          "output_type": "stream",
          "text": [
            "Valor do Número é:  0\n",
            "Valor do Número é:  1\n",
            "Valor do Número é:  2\n",
            "Valor do Número é:  3\n",
            "Valor do Número é:  4\n",
            "Valor do Número é:  5\n",
            "Valor do Número é:  6\n",
            "Valor do Número é:  7\n",
            "Valor do Número é:  8\n",
            "Valor do Número é:  9\n",
            "Valor do Número é:  10\n",
            "Valor do Número é:  11\n",
            "Valor do Número é:  12\n",
            "Valor do Número é:  13\n",
            "Valor do Número é:  14\n",
            "Valor do Número é:  15\n",
            "Valor do Número é:  16\n",
            "Valor do Número é:  17\n",
            "Valor do Número é:  18\n",
            "Valor do Número é:  19\n",
            "Valor do Número é:  20\n",
            "Valor do Número é:  21\n",
            "Valor do Número é:  22\n",
            "Valor do Número é:  23\n",
            "Valor do Número é:  24\n",
            "Valor do Número é:  25\n",
            "Valor do Número é:  26\n",
            "Valor do Número é:  27\n",
            "Valor do Número é:  28\n",
            "Valor do Número é:  29\n",
            "Valor do Número é:  30\n",
            "Valor do Número é:  31\n",
            "Valor do Número é:  32\n",
            "Valor do Número é:  33\n",
            "Valor do Número é:  34\n",
            "Valor do Número é:  35\n",
            "Valor do Número é:  36\n",
            "Valor do Número é:  37\n",
            "Valor do Número é:  38\n",
            "Valor do Número é:  39\n",
            "Valor do Número é:  40\n",
            "Valor do Número é:  41\n",
            "Valor do Número é:  42\n",
            "Valor do Número é:  43\n",
            "Valor do Número é:  44\n",
            "Valor do Número é:  45\n",
            "Valor do Número é:  46\n",
            "Valor do Número é:  47\n",
            "Valor do Número é:  48\n",
            "Valor do Número é:  49\n",
            "Valor do Número é:  50\n",
            "Valor do Número é:  51\n",
            "Valor do Número é:  52\n",
            "Valor do Número é:  53\n",
            "Valor do Número é:  54\n",
            "Valor do Número é:  55\n",
            "Valor do Número é:  56\n",
            "Valor do Número é:  57\n",
            "Valor do Número é:  58\n",
            "Valor do Número é:  59\n",
            "Valor do Número é:  60\n",
            "Valor do Número é:  61\n",
            "Valor do Número é:  62\n",
            "Valor do Número é:  63\n",
            "Valor do Número é:  64\n",
            "Valor do Número é:  65\n",
            "Valor do Número é:  66\n",
            "Valor do Número é:  67\n",
            "Valor do Número é:  68\n",
            "Valor do Número é:  69\n",
            "Valor do Número é:  70\n",
            "Valor do Número é:  71\n",
            "Valor do Número é:  72\n",
            "Valor do Número é:  73\n",
            "Valor do Número é:  74\n",
            "Valor do Número é:  75\n",
            "Valor do Número é:  76\n",
            "Valor do Número é:  77\n",
            "Valor do Número é:  78\n",
            "Valor do Número é:  79\n",
            "Valor do Número é:  80\n",
            "Valor do Número é:  81\n",
            "Valor do Número é:  82\n",
            "Valor do Número é:  83\n",
            "Valor do Número é:  84\n",
            "Valor do Número é:  85\n",
            "Valor do Número é:  86\n",
            "Valor do Número é:  87\n",
            "Valor do Número é:  88\n",
            "Valor do Número é:  89\n",
            "Valor do Número é:  90\n",
            "Valor do Número é:  91\n",
            "Valor do Número é:  92\n",
            "Valor do Número é:  93\n",
            "Valor do Número é:  94\n",
            "Valor do Número é:  95\n",
            "Valor do Número é:  96\n",
            "Valor do Número é:  97\n",
            "Valor do Número é:  98\n",
            "Valor do Número é:  99\n",
            "Valor do Número é:  100\n",
            "Acabou!\n"
          ],
          "name": "stdout"
        }
      ]
    }
  ]
}